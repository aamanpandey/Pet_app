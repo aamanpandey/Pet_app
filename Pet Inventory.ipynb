{
 "cells": [
  {
   "cell_type": "markdown",
   "metadata": {
    "toc": true
   },
   "source": [
    "<h1>Table of Contents<span class=\"tocSkip\"></span></h1>\n",
    "<div class=\"toc\"><ul class=\"toc-item\"></ul></div>"
   ]
  },
  {
   "cell_type": "code",
   "execution_count": 14,
   "metadata": {},
   "outputs": [
    {
     "name": "stdout",
     "output_type": "stream",
     "text": [
      "871\n",
      "0.08 6\n",
      "15.868743229440005\n",
      "15.868743229440005\n"
     ]
    }
   ],
   "source": [
    "from datetime import date\n",
    "class Pet():\n",
    "    def __init__(self,name,dob,birth_weight,owner):\n",
    "        self.name = name\n",
    "        self.dob = dob\n",
    "        self.birth_weight = birth_weight\n",
    "        self.owner = owner\n",
    "    \n",
    "    def calcweight(self,birth_weight,incrate,noinc):\n",
    "        currentweight = birth_weight * ((1 + incrate) ** noinc)\n",
    "        print(currentweight)\n",
    "        return currentweight\n",
    "        \n",
    "        \n",
    "\n",
    "class Mammels(Pet):\n",
    "    def __init__(self,name,dob,birth_weight,owner,litter,has_claws):\n",
    "        super().__init__(name,dob,birth_weight,owner)\n",
    "        self.litter = litter\n",
    "        self.has_claws = has_claws\n",
    "        self.calc_current_weight()\n",
    "        \n",
    "    def calc_current_weight(self):\n",
    "        agedays = (date.today() - self.dob).days\n",
    "        incrate = 0.08\n",
    "        print(agedays)\n",
    "        if agedays > 300:\n",
    "            noinc = 6\n",
    "        else:\n",
    "            noinc = agedays // 50\n",
    "        print(incrate,noinc)\n",
    "        self.current_Weight = self.calcweight(self.birth_weight,incrate,noinc)\n",
    "        print(self.current_Weight)\n",
    "\n",
    "class Fish(Pet):\n",
    "    def __init__(self,name,dob,birth_weight,owner,scale_condition,length):\n",
    "        super().__init__(name,dob,birth_weight,owner)\n",
    "        self.scale_condition = scale_condition\n",
    "        self.length = length\n",
    "    def calc_current_weight(self):\n",
    "        agedays = (date.today() - self.dob).days\n",
    "        incrate = 0.04\n",
    "        print(agedays)\n",
    "        if agedays > 360:\n",
    "            noinc = 4\n",
    "        else:\n",
    "            noinc = agedays // 90\n",
    "        self.current_Weight = self.calcweight(self.birth_weight,incrate,noinc)\n",
    "        \n",
    "class Amphibian(Pet):\n",
    "    def __init__(self,name,dob,birth_weight,owner,isVenemous):\n",
    "        super().__init__(name,dob,birth_weight,owner)\n",
    "        self.isVenemous = isVenemous\n",
    "        \n",
    "    def calc_current_weight(self):\n",
    "        agedays = (date.today() - self.dob).days\n",
    "        print(agedays)\n",
    "        if agedays <= 360:\n",
    "            self.current_Weight = self.calcweight(self.birth_weight,0.05,agedays // 120)\n",
    "        elif agedays > 360 and agedays <= 600:\n",
    "            self.current_Weight = self.calcweight(self.birth_weight,0.05,agedays // 120) + self.calcweight(self.birth_weight,0.03,(agedays-360)//120)\n",
    "        else:\n",
    "            self.current_Weight = self.calcweight(self.birth_weight,0.05,agedays // 120) + self.calcweight(self.birth_weight,0.03,(agedays-360)//120)\n",
    "        \n",
    "\n",
    "class Person():\n",
    "    def __init__(self,person_name,person_add):\n",
    "        self.person_name = person_name\n",
    "        self.person_add = person_add        "
   ]
  },
  {
   "cell_type": "markdown",
   "metadata": {},
   "source": []
  },
  {
   "cell_type": "code",
   "execution_count": null,
   "metadata": {},
   "outputs": [],
   "source": []
  }
 ],
 "metadata": {
  "kernelspec": {
   "display_name": "Python 3",
   "language": "python",
   "name": "python3"
  },
  "language_info": {
   "codemirror_mode": {
    "name": "ipython",
    "version": 3
   },
   "file_extension": ".py",
   "mimetype": "text/x-python",
   "name": "python",
   "nbconvert_exporter": "python",
   "pygments_lexer": "ipython3",
   "version": "3.7.4"
  },
  "toc": {
   "base_numbering": 1,
   "nav_menu": {},
   "number_sections": true,
   "sideBar": true,
   "skip_h1_title": false,
   "title_cell": "Table of Contents",
   "title_sidebar": "Contents",
   "toc_cell": true,
   "toc_position": {},
   "toc_section_display": true,
   "toc_window_display": true
  }
 },
 "nbformat": 4,
 "nbformat_minor": 4
}
